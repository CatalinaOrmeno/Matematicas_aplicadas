{
  "cells": [
    {
      "cell_type": "markdown",
      "metadata": {
        "id": "xXjhMBMryPEY"
      },
      "source": [
        "# Problema 1"
      ]
    },
    {
      "cell_type": "markdown",
      "metadata": {
        "id": "hd5aYLdWxUrZ"
      },
      "source": [
        "Una red transmite datos a $100$ megabits por segundo. Crea una función utilizando *Python* que permita calcular la cantidad de datos transmitidos en una cierta cantidad de tiempo (en segundos). Luego utiliza la función y calcula cuántos datos se transmiten en:\n",
        "\n",
        "* $45$ segundos\n",
        "* $1,5$ minutos\n",
        "* $1$ hora\n",
        "\n"
      ]
    },
    {
      "cell_type": "code",
      "execution_count": 24,
      "metadata": {},
      "outputs": [
        {
          "name": "stdout",
          "output_type": "stream",
          "text": [
            "Se transmiten 4500 megabits durante 45 segundo(s).\n",
            "Se transmiten 9000.0 megabits durante 90.0 segundo(s).\n",
            "Se transmiten 360000 megabits durante 3600 segundo(s).\n"
          ]
        }
      ],
      "source": [
        "def megabits(segundos:int):\n",
        "    resultado = 100 * segundos\n",
        "    print(f'Se transmiten {resultado} megabits durante {segundos} segundo(s).')\n",
        "megabits(45)\n",
        "megabits((1.5 * 60))\n",
        "megabits((60 * 60))"
      ]
    },
    {
      "cell_type": "markdown",
      "metadata": {
        "id": "D8XA9m7wAPMm"
      },
      "source": [
        "# Problema 2"
      ]
    },
    {
      "cell_type": "markdown",
      "metadata": {
        "id": "GAqylLb8Cu5U"
      },
      "source": [
        "Utilizando la función definida en el problema $1$, genera un listado que muestre los datos transmitidos para tiempos desde $0$ hasta $1.000$ segundos con incrementos de $100$ segundos."
      ]
    },
    {
      "cell_type": "code",
      "execution_count": 25,
      "metadata": {},
      "outputs": [
        {
          "name": "stdout",
          "output_type": "stream",
          "text": [
            "Se transmiten 0 megabits durante 0 segundo(s).\n",
            "Se transmiten 10000 megabits durante 100 segundo(s).\n",
            "Se transmiten 20000 megabits durante 200 segundo(s).\n",
            "Se transmiten 30000 megabits durante 300 segundo(s).\n",
            "Se transmiten 40000 megabits durante 400 segundo(s).\n",
            "Se transmiten 50000 megabits durante 500 segundo(s).\n",
            "Se transmiten 60000 megabits durante 600 segundo(s).\n",
            "Se transmiten 70000 megabits durante 700 segundo(s).\n",
            "Se transmiten 80000 megabits durante 800 segundo(s).\n",
            "Se transmiten 90000 megabits durante 900 segundo(s).\n",
            "Se transmiten 100000 megabits durante 1000 segundo(s).\n"
          ]
        }
      ],
      "source": [
        "lista1 = [num for num in range(0,1001,100)]\n",
        "for ind,elem in enumerate(lista1):\n",
        "    megabits(elem)"
      ]
    },
    {
      "cell_type": "markdown",
      "metadata": {
        "id": "Y28VfYtL2lU-"
      },
      "source": [
        "# Problema 3"
      ]
    },
    {
      "cell_type": "markdown",
      "metadata": {
        "id": "Z1-uAGdQ2xq2"
      },
      "source": [
        "La **latencia** de una red corresponde al tiempo que tarda un paquete de datos en viajar desde el punto de origen al destino. En otras palabras, es el tiempo que transcurre desde que se envía una solicitud de un dispositivo hasta que se recibe una respuesta del servidor u otro dispositivo.\n",
        "\n",
        "La latencia puede verse afectada por la velocidad de transmisión de los datos a través de los cables o conexiones inalámbricas, la distancia física entre los dispositivos, el tiempo que tarda un computador en procesar o reenviar los datos, etc.\n",
        "\n",
        "En redes de comunicación, como las videoconferencias, juegos en línea y transmisión de datos en tiempo real, es deseable una baja latencia, de lo contrario pueden existir retrasos en la comunicación y afectar negativamente la experiencia del usuario."
      ]
    },
    {
      "cell_type": "markdown",
      "metadata": {
        "id": "XFLW0fW26j83"
      },
      "source": [
        "Según el contexto mencionado, crea una función en *Python* que permita calcular la **latencia real** de una red dada una latencia estimada. Suponga que la latencia real es un $20\\%$ mayor a la latencia estimada.\n",
        "\n",
        "Calcule la latencia real para una latencia estimada de:\n",
        "\n",
        "a)   $200$ milisegundos.\n",
        "\n",
        "b)   $149$ milisegundos.\n",
        "\n",
        "c)   $74$ milisegundos.\n",
        "\n"
      ]
    },
    {
      "cell_type": "code",
      "execution_count": 26,
      "metadata": {},
      "outputs": [
        {
          "name": "stdout",
          "output_type": "stream",
          "text": [
            "Latencia estimada: 200 milisegundos\n",
            "Latencia real: 240.0 milisegundos\n",
            "\n",
            "Latencia estimada: 149 milisegundos\n",
            "Latencia real: 178.79999999999998 milisegundos\n",
            "\n",
            "Latencia estimada: 74 milisegundos\n",
            "Latencia real: 88.8 milisegundos\n",
            "\n"
          ]
        }
      ],
      "source": [
        "def calcular_latencia(milisegundos:int):\n",
        "    latencia_real = milisegundos * 1.20\n",
        "    print(f'Latencia estimada: {milisegundos} milisegundos\\nLatencia real: {latencia_real} milisegundos\\n')\n",
        "calcular_latencia(200)\n",
        "calcular_latencia(149)\n",
        "calcular_latencia(74)"
      ]
    },
    {
      "cell_type": "markdown",
      "metadata": {
        "id": "LGX3xr94E-Ix"
      },
      "source": [
        "# Problema 4"
      ]
    },
    {
      "cell_type": "markdown",
      "metadata": {
        "id": "wPT1xIfVGDCQ"
      },
      "source": [
        "Como parte de un proyecto de mejora, en el año $2021$ se instaló un cable de fibra óptica que une España con EEUU. El cable tiene un largo de $6.600$ $km$ y fue colocado por un barco a una velocidad de $1,85$ $km/h$.\n",
        "\n",
        "\n",
        "\n",
        "1.   Determine la forma algebraica de la función que permite determinar el largo del cable instalado (en km) a partir del tiempo transcurrido (en horas). Utilice la instrucción *def* para definir la función en *Python*.\n",
        "2.   Defina variable dependiente e independiente, indicando unidad de medida.\n",
        "3.   Determine el dominio contextualizado de la función.\n",
        "4.   Grafique la función utilizando la biblioteca *Matplotlib* considerando el dominio contextualizado.\n",
        "5.   ¿Cuántos metros de cable se instalaron al transcurrir $148$ horas? ¿Y transcurridas $2.300$ horas?\n",
        "6.   Si se han instalado $3.480$ kilometros de cable, ¿cuántas horas llevan de trabajo?\n",
        "7.   ¿Cuánto tiempo transcurrió para que se completara la obra?\n",
        "\n",
        "\n"
      ]
    },
    {
      "cell_type": "code",
      "execution_count": 28,
      "metadata": {},
      "outputs": [
        {
          "data": {
            "image/png": "[encoded data removed]",
            "text/plain": [
              "<Figure size 640x480 with 1 Axes>"
            ]
          },
          "metadata": {},
          "output_type": "display_data"
        }
      ],
      "source": [
        "import matplotlib.pyplot as plt\n",
        "import numpy as np\n",
        "def largo_cable(horas):\n",
        "    kilometros = 1.85 * horas\n",
        "    #Variable dependiente: largo del cable(kilometros)\n",
        "    #Variable independiente: tiempo de trabajo(horas)\n",
        "\n",
        "#dominio contextualizado: [0,6600]\n",
        "horas = np.arange(0,3600)\n",
        "kilometros = 1.85 * horas\n",
        "plt.plot(horas,kilometros)\n",
        "plt.axis([0,3600,0,6600])\n",
        "\n",
        "plt.title(\"Tiempo de instalacion por kilometros de cable\")\n",
        "plt.xlabel('Tiempo(horas)')\n",
        "plt.ylabel('Kilometros')\n",
        "plt.grid(True)\n",
        "plt.show()"
      ]
    },
    {
      "cell_type": "markdown",
      "metadata": {
        "id": "FMr921rUDxvV"
      },
      "source": [
        "# Problema 5"
      ]
    },
    {
      "cell_type": "markdown",
      "metadata": {
        "id": "Iuo-QM5vGSiW"
      },
      "source": [
        "Un turista ha llegado a Santiago y desea conocer algunos lugares de la ciudad. Ha decidido visitar el Palacio de la Moneda y desde ahí trasladarse al centro comercial \"Costanera Center\", utilizando algún medio de transporte que ofrece la ciudad.\n",
        "\n",
        "Si se traslada en metro deberá abordar en estación La Moneda y bajar en la estación Tobalaba ($9$ estaciones). La función $f(t)$ permite calcular la distancia recorrida utilizando el metro (en kilómetros) transcurridos $t$ minutos.\n",
        "\n",
        "$$f(t) = 0,4t$$\n",
        "\n",
        "Si se traslada en bus, el turista podrá observar la ciudad y otros atractivos en su viaje. La función $g(t)$ permite calcular la distancia recorrida en bus (en kilómetros) transcurridos $t$ minutos.\n",
        "\n",
        "$$g(t) = 0,3t$$\n",
        "\n",
        "Según la información anterior:\n",
        "\n",
        "1. Grafique ambas funciones, indicando el nombre de cada eje junto con su unidad de medida. Para realizar el gráfico utilice la biblioteca *Matplotlib*.\n",
        "2.  Si se sabe que el metro se demora $1,2$ minutos en llegar desde una estación a otra y espera $30$ segundos en cada estación, indique el dominio contextualizado para $f(t)$.\n",
        "3. Mediante análisis gráfico, indique cuál medio de transporte es más conveniente en términos de tiempo, para el turista. Justifique.\n",
        "4.  Si se sabe que desde estación La Moneda hasta Tobalaba son aproximadamente $6$ kilómetros ¿cuántos tiempo tardará el turista en llegar a su destino con cada una de las opciones?"
      ]
    },
    {
      "cell_type": "markdown",
      "metadata": {
        "id": "C5psSJY-S9x4"
      },
      "source": [
        "# Problema 6"
      ]
    },
    {
      "cell_type": "markdown",
      "metadata": {
        "id": "0v3a4hJATUgX"
      },
      "source": [
        "La temperatura de un servidor (en °C) puede ser modelada mediante la función\n",
        "\n",
        "$$T(t) = -0,5 t^{2} + 3 t + 20$$\n",
        "\n",
        "donde $t$ corresponde al tiempo transcurrido (en horas) en un día laboral. Considere que la jornada laboral comienza a las 08:00 horas y termina a las 17:00 horas.\n",
        "\n",
        "1.  Defina variable dependiente e independiente, indicando unidad de medida.\n",
        "2.  Determine el dominio contextualizado del problema.\n",
        "3.  Grafique la función utilizando *Python*.\n",
        "4.  Mediante un análisis gráfico, estime cuándo el servidor alcanza la máxima temperatura y calcule cuánto es.\n",
        "5.  Determine la temperatura del servidor a las 13:00 horas y al finalizar la jornada laboral.\n"
      ]
    },
    {
      "cell_type": "markdown",
      "metadata": {
        "id": "pD_SzSu3jBkn"
      },
      "source": [
        "# Problema 7"
      ]
    },
    {
      "cell_type": "markdown",
      "metadata": {
        "id": "OJyAOwerjJ5m"
      },
      "source": [
        "El número de usuarios de una red social se puede modelar mediante la función:\n",
        "\n",
        "$$U(t) = \\frac{1.000}{1+9e^{-0.5t}}$$\n",
        "\n",
        "donde $t$ corresponde al tiempo transcurrido en meses.\n",
        "\n",
        "1.  Defina variable dependiente e independiente, indicando unidad de medida.\n",
        "2.  Determine la cantidad de usuarios transcurridos $12$ meses.\n",
        "3.  Grafique la función, utilizando la librería *Matplotlib*, para los primeros dos años de funcionamiento.\n",
        "4.  ¿Cuánto tiempo debe pasar para que la red social llegue a $800$ usuarios?"
      ]
    },
    {
      "cell_type": "markdown",
      "metadata": {
        "id": "TaZ_E6YwB0I4"
      },
      "source": [
        "# Problema 8"
      ]
    },
    {
      "cell_type": "markdown",
      "metadata": {
        "id": "HwpmaO5cDO43"
      },
      "source": [
        "El tiempo de ejecución de un algoritmo de ordenación (en segundos) se puede modelar mediante la función:\n",
        "\n",
        "$$A(n) = 0,01n^{2} + 0,5n + 2$$\n",
        "\n",
        "donde $n$ corresponde a la cantidad de elementos a ordenar. El algoritmo funciona desde las 23:00 horas hasta las 06:00 horas y debe ordenar $1.562$ elementos.\n",
        "\n",
        "1. Defina variable dependiente e independiente, indicando unidad de medida.\n",
        "2. Determine el dominio contextualizado de la función.\n",
        "3. Determine el tiempo de ejecución para ordenar $1.200$ elementos.\n",
        "4. Grafique, utilizando la biblioteca *Matplotlib*, la función $A(n)$.\n",
        "5. ¿Cuántos elementos ordena luego de $6$ horas de funcionamiento?"
      ]
    },
    {
      "cell_type": "markdown",
      "metadata": {
        "id": "yOcCVQKdOeGC"
      },
      "source": [
        "# Problema 9"
      ]
    },
    {
      "cell_type": "markdown",
      "metadata": {
        "id": "QZl4iQT2Ognb"
      },
      "source": [
        "El consumo de energía (en $kWh$) de un *Data Center* puede ser modelado por la función:\n",
        "\n",
        " $$E(t) = 50\\cdot \\log(t + 1) + 200$$\n",
        "\n",
        "donde $t$ corresponde al tiempo (en horas) desde el inicio del monitoreo.\n",
        "\n",
        "1. Defina variable dependiente e independiente, indicando unidad de medida.\n",
        "2. Determine el consumo de energía del *Data Center* después de $5$ horas.\n",
        "3. ¿Luego de cuántas horas el consumo será de $350$ kWh?\n",
        "4. Grafique, utilizando la biblioteca *Matplotlib*, la función $E(t)$."
      ]
    },
    {
      "cell_type": "markdown",
      "metadata": {
        "id": "OHKN7SIFyh2-"
      },
      "source": [
        "# Problema 10"
      ]
    },
    {
      "cell_type": "markdown",
      "metadata": {
        "id": "T1ooPV9Ny4mr"
      },
      "source": [
        "En gestión de proyectos, es crucial entender cómo se distribuye la carga de trabajo a lo largo del tiempo para planificar recursos, tiempo y esfuerzos de manera eficiente. Un fenómeno común es la disminución exponencial de la carga de trabajo, donde el esfuerzo requerido es mayor al inicio del proyecto y disminuye gradualmente a medida que se completan las tareas principales.\n",
        "\n",
        "Esta disminución exponencial puede modelarse matemáticamente para predecir y gestionar el trabajo de manera efectiva.\n",
        "\n",
        "<br>\n",
        "\n",
        "Un estudio sobre gestión de proyectos sostiene que la carga de trabajo en un proyecto (en porcentaje) puede ser modelada por la función:\n",
        "\n",
        "$$W(t) = 100e^{-0.1t}$$\n",
        "\n",
        "donde $t$ corresponde al tiempo transcurrido (en semanas) desde el inicio del proyecto.\n",
        "\n",
        "1. Defina variable dependiente e independiente, indicando unidad de medida.\n",
        "2. Determine la carga de trabajo al inicio del proyecto.\n",
        "3. ¿Cuál será la carga de trabajo luego de transcurridas $4$ semanas desde el inicio del proyecto?\n",
        "4. Si el proyecto duró $12$ semanas, ¿es correcto afirmar que la carga de trabajo llegó al $20\\%$?\n",
        "5. ¿Cuántas semanas han pasado desde el inicio del proyecto para que la carga de trabajo sea de $55\\%$?\n",
        "6. Utilizando *Matplotlib*, grafique la función considerando un tiempo máximo de $12$ semanas."
      ]
    }
  ],
  "metadata": {
    "colab": {
      "provenance": [],
      "toc_visible": true
    },
    "kernelspec": {
      "display_name": "Python 3",
      "name": "python3"
    },
    "language_info": {
      "codemirror_mode": {
        "name": "ipython",
        "version": 3
      },
      "file_extension": ".py",
      "mimetype": "text/x-python",
      "name": "python",
      "nbconvert_exporter": "python",
      "pygments_lexer": "ipython3",
      "version": "3.11.1"
    }
  },
  "nbformat": 4,
  "nbformat_minor": 0
}
